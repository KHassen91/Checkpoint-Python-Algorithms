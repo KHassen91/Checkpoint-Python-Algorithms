{
 "cells": [
  {
   "cell_type": "markdown",
   "metadata": {},
   "source": [
    "# Question 1:"
   ]
  },
  {
   "cell_type": "code",
   "execution_count": 1,
   "metadata": {},
   "outputs": [],
   "source": [
    "def binary_search(A, l, h, k):\n",
    "    if h >= l:\n",
    "        mid = int(l + (h - l)/2)\n",
    "\n",
    "        if A[mid] == k:\n",
    "            return 'true'\n",
    "        elif A[mid] > k:\n",
    "            return binary_search(A, l, mid-1, k)\n",
    "        else:\n",
    "            return binary_search(A, mid+1, h, k)\n",
    "    else:\n",
    "        return 'false'  "
   ]
  },
  {
   "cell_type": "markdown",
   "metadata": {},
   "source": [
    "# Question 2:"
   ]
  },
  {
   "cell_type": "code",
   "execution_count": 2,
   "metadata": {},
   "outputs": [],
   "source": [
    "def recursive_factorial(a,b):\n",
    "    v = 1\n",
    "    if b == 0:\n",
    "        print('Error')\n",
    "    else:\n",
    "        for i in range(1,(b+1)):\n",
    "            v = v * a\n",
    "        return v"
   ]
  },
  {
   "cell_type": "markdown",
   "metadata": {},
   "source": [
    "# Question 3:"
   ]
  },
  {
   "cell_type": "code",
   "execution_count": 3,
   "metadata": {},
   "outputs": [
    {
     "data": {
      "text/plain": [
       "[13, 22, 29, 37, 46, 49, 52, 56, 71]"
      ]
     },
     "execution_count": 3,
     "metadata": {},
     "output_type": "execute_result"
    }
   ],
   "source": [
    "def bubbleSort(list):\n",
    "    for i in range(len(list)-1,0,-1):\n",
    "        for j in range(i):\n",
    "            if list[j]>list[j+1]:\n",
    "                num = list[j]\n",
    "                list[j] = list[j+1]\n",
    "                list[j+1] = num\n",
    "    return list\n",
    "\n",
    "list = [29,13,22,37,52,49,46,71,56]\n",
    "bubbleSort(list)"
   ]
  },
  {
   "cell_type": "markdown",
   "metadata": {},
   "source": [
    "# Question 4:"
   ]
  },
  {
   "cell_type": "code",
   "execution_count": 6,
   "metadata": {},
   "outputs": [
    {
     "name": "stdout",
     "output_type": "stream",
     "text": [
      "[13, 22, 29, 37, 46, 49, 52, 56, 71]\n"
     ]
    }
   ],
   "source": [
    "def mergeSort(li):\n",
    "    if len(li) > 1:\n",
    "        mid = len(li) // 2\n",
    "        left = li[:mid]\n",
    "        right = li[mid:]\n",
    "        mergeSort(left)\n",
    "        mergeSort(right)\n",
    "        i = 0\n",
    "        j = 0\n",
    "        k = 0\n",
    "        while i < len(left) and j < len(right):\n",
    "            if left[i] < right[j]:\n",
    "                li[k] = left[i]\n",
    "                i+=1\n",
    "            else:\n",
    "                li[k] = right[j]\n",
    "                j+=1\n",
    "            k+=1\n",
    "        while i < len(left):\n",
    "            li[k] = left[i]\n",
    "            i += 1\n",
    "            k += 1\n",
    "        while j < len(right):\n",
    "            li[k]=right[j]\n",
    "            j += 1\n",
    "            k += 1\n",
    "        \n",
    "li = [29,13,22,37,52,49,46,71,56]\n",
    "mergeSort(li)\n",
    "print(li)"
   ]
  },
  {
   "cell_type": "markdown",
   "metadata": {},
   "source": [
    "# Question 5:\n"
   ]
  },
  {
   "cell_type": "code",
   "execution_count": 16,
   "metadata": {},
   "outputs": [
    {
     "name": "stdout",
     "output_type": "stream",
     "text": [
      "[13, 22, 29, 37, 46, 49, 52, 56, 71]\n"
     ]
    }
   ],
   "source": [
    "def partition(lii , start , end):\n",
    "    pivot = lii[start]\n",
    "    low = start + 1\n",
    "    high = end\n",
    "    while True:\n",
    "        while low <= high and lii[high] >= pivot:\n",
    "            high = high - 1\n",
    "        while low <= high and lii[low] <= pivot:\n",
    "            low = low + 1\n",
    "        if low <= high:\n",
    "            array[low], lii[high] = lii[high], lii[low]\n",
    "        else:\n",
    "            break\n",
    "    lii[start], lii[high] = lii[high], lii[start]\n",
    "    return high\n",
    "\n",
    "def quickSort(li , start , end):\n",
    "    if start >= end:\n",
    "        return\n",
    "\n",
    "    p = partition(lii, start, end)\n",
    "    quickSort(lii, start, p-1)\n",
    "    quickSort(lii, p+1, end)\n",
    "    \n",
    "lii = [29,13,22,37,52,49,46,71,56]\n",
    "quickSort(lii,0,len(lii)-1)\n",
    "print(lii)"
   ]
  },
  {
   "cell_type": "code",
   "execution_count": null,
   "metadata": {},
   "outputs": [],
   "source": []
  }
 ],
 "metadata": {
  "kernelspec": {
   "display_name": "Python 3",
   "language": "python",
   "name": "python3"
  },
  "language_info": {
   "codemirror_mode": {
    "name": "ipython",
    "version": 3
   },
   "file_extension": ".py",
   "mimetype": "text/x-python",
   "name": "python",
   "nbconvert_exporter": "python",
   "pygments_lexer": "ipython3",
   "version": "3.8.5"
  }
 },
 "nbformat": 4,
 "nbformat_minor": 4
}
